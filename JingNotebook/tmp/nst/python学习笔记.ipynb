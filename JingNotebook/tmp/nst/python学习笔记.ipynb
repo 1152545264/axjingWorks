{
 "cells": [
  {
   "cell_type": "markdown",
   "metadata": {},
   "source": [
    "#  面向对象\n",
    "\n",
    "- 面向对象技术简介\n",
    "- 类(Class): 用来描述具有相同的属性和方法的对象的集合。它定义了该集合中每个对象所共有的属性和方法。对象是类的实例。\n",
    "- 类变量：类变量在整个实例化的对象中是公用的。类变量定义在类中且在函数体之外。类变量通常不作为实例变量使用。\n",
    "- 数据成员：类变量或者实例变量, 用于处理类及其实例对象的相关的数据。\n",
    "- 方法重写：如果从父类继承的方法不能满足子类的需求，可以对其进行改写，这个过程叫方法的覆盖（override），也称为方法的重写。\n",
    "- 局部变量：定义在方法中的变量，只作用于当前实例的类。\n",
    "- 实例变量：在类的声明中，属性是用变量来表示的。这种变量就称为实例变量，是在类声明的内部但是在类的其他成员方法之外声明的。\n",
    "- 继承：即一个派生类（derived class）继承基类（base class）的字段和方法。继承也允许把一个派生类的对象作为一个基类对象对待。例如，有这样一个设计：一个Dog类型的对象派生自Animal类，这是模拟\"是一个（is-a）\"关系（例图，Dog是一个Animal）。\n",
    "- 实例化：创建一个类的实例，类的具体对象。\n",
    "- 方法：类中定义的函数。\n",
    "- 对象：通过类定义的数据结构实例。对象包括两个数据成员（类变量和实例变量）和方法。"
   ]
  },
  {
   "cell_type": "markdown",
   "metadata": {},
   "source": [
    "## 创建类\n",
    "    class ClassName:\n",
    "        '类的帮助信息' #类文档字符串\n",
    "        class _suite  #类体\n",
    "类对象支持两种操作：**属性引用和实例化**\n",
    "\n",
    "1. 属性引用使用和Python中所有的属性引用一样的标准语法：obj.name\n",
    "2. 类对象创建后，类命名空间所有的命名都是有效属性名，所以如果类定义是这样\n",
    "："
   ]
  },
  {
   "cell_type": "code",
   "execution_count": 8,
   "metadata": {},
   "outputs": [
    {
     "name": "stdout",
     "output_type": "stream",
     "text": [
      "Myclass 类的属性 i  为：  123456\n",
      "Myclass 类的方法 f 输出为：  Hello world!!!\n"
     ]
    }
   ],
   "source": [
    "#!/usr/bin/python3\n",
    "class MyClass:\n",
    "    \"\"\"一个简单的类定义\"\"\"\n",
    "    i = 123456\n",
    "    def f(self):\n",
    "        return \"Hello world!!!\"\n",
    "\n",
    "# 实例化类\n",
    "x = MyClass()\n",
    "\n",
    "#访问类的属性和方法\n",
    "print(\"Myclass 类的属性 i  为： \", x.i)\n",
    "print(\"Myclass 类的方法 f 输出为： \", x.f())\n"
   ]
  },
  {
   "cell_type": "markdown",
   "metadata": {},
   "source": [
    "*以上创建一个新的类实例并将该对象赋给局部变量x, x为空的对象"
   ]
  },
  {
   "cell_type": "markdown",
   "metadata": {},
   "source": [
    "**类有一个名为__init__()的特殊方法（构造方法），该方法实例化时会自动调用**"
   ]
  },
  {
   "cell_type": "code",
   "execution_count": 9,
   "metadata": {},
   "outputs": [
    {
     "name": "stdout",
     "output_type": "stream",
     "text": [
      "3.0 -4.5\n"
     ]
    }
   ],
   "source": [
    "class Complex:\n",
    "    def __init__(self, realpart, imagpart):\n",
    "        self.r = realpart\n",
    "        self.i = imagpart\n",
    "x = Complex(3.0, -4.5)\n",
    "print(x.r, x.i)"
   ]
  },
  {
   "cell_type": "markdown",
   "metadata": {},
   "source": [
    "**self代表类的实例， 而非类**\n",
    "- 类的方法与普通的函数只有一个特别的区别——他们必须有一个额外的第一个参数名称，按照惯的名称为self"
   ]
  },
  {
   "cell_type": "code",
   "execution_count": 13,
   "metadata": {},
   "outputs": [
    {
     "data": {
      "text/plain": [
       "<bound method Test.prt of <__main__.Test object at 0x0000021DAB6A2898>>"
      ]
     },
     "execution_count": 13,
     "metadata": {},
     "output_type": "execute_result"
    }
   ],
   "source": [
    "class Test:\n",
    "    def prt(self):\n",
    "        print(self,'\\n')\n",
    "        print(self.__class__)\n",
    "t = Test()\n",
    "t.prt"
   ]
  },
  {
   "cell_type": "markdown",
   "metadata": {},
   "source": [
    "**类的方法**\n",
    "\n",
    "在类的内部，使用def关键字来定义一个方法，与一般函数的定义不同， 类的方法必须包含参数self, 且为第一个参数， self代表的是类的实例"
   ]
  },
  {
   "cell_type": "code",
   "execution_count": 25,
   "metadata": {},
   "outputs": [
    {
     "name": "stdout",
     "output_type": "stream",
     "text": [
      "安相静 说：我 23 岁， 体重 147 斤\n"
     ]
    }
   ],
   "source": [
    "#定义类\n",
    "class People:\n",
    "    #定义基本属性\n",
    "    name = ' '\n",
    "    age = 0\n",
    "    #定义私有属性，私有属性在类的外部无法直接进行访问\n",
    "    __weight = 0\n",
    "    #定义结构方法\n",
    "    def __init__(self, n, a, w):\n",
    "        self.name = n\n",
    "        self.age = a\n",
    "        self.__weight = w\n",
    "    def speak(self):\n",
    "        print(\"%s 说：我 %d 岁， 体重 %d 斤\"%(self.name, self.age, self.__weight))\n",
    "#实例化\n",
    "p = People('安相静', 23, 147)\n",
    "p.speak()"
   ]
  },
  {
   "cell_type": "markdown",
   "metadata": {},
   "source": [
    "**继承**\n",
    "\n",
    "python同样支持类的继承，派生类的定义如下：\n",
    "\n",
    "    class DeriveClassName(BaseClassName1):\n",
    "        <statement-1>\n",
    "        .\n",
    "        .\n",
    "        .\n",
    "        <statement-N>\n",
    "        \n",
    "需要注意圆括号中基类的顺序，若是基类中有相同的方法名，而在子类使用时未指定，python从左至右搜索 即方法在子类中未找到时，从左到右查找基类中是否包含方法。\n",
    "\n",
    "BaseClassName（示例中的基类名）必须与派生类定义在一个作用域内。除了类，还可以用表达式，基类定义在另一个模块中时这一点非常有用:"
   ]
  },
  {
   "cell_type": "code",
   "execution_count": null,
   "metadata": {},
   "outputs": [],
   "source": []
  }
 ],
 "metadata": {
  "kernelspec": {
   "display_name": "Python [conda env:tensorflow]",
   "language": "python",
   "name": "conda-env-tensorflow-py"
  },
  "language_info": {
   "codemirror_mode": {
    "name": "ipython",
    "version": 3
   },
   "file_extension": ".py",
   "mimetype": "text/x-python",
   "name": "python",
   "nbconvert_exporter": "python",
   "pygments_lexer": "ipython3",
   "version": "3.5.4"
  }
 },
 "nbformat": 4,
 "nbformat_minor": 2
}
