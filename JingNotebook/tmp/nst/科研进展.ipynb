{
 "cells": [
  {
   "cell_type": "markdown",
   "metadata": {},
   "source": [
    "# 科研进展汇报"
   ]
  },
  {
   "cell_type": "markdown",
   "metadata": {},
   "source": [
    "##  20181201研究进展:\n",
    "### 已完成：\n",
    "1. 复现Faster R-CNN中的RPN网路，对颈动脉超声出现进行初步的实验,证明方案的可行性\n",
    "2. 对tensorflow object detection API进行深入的学习与了解，后续的数据计划使用此API实现\n",
    "3. 学习Open CV掌握对医学图像的预处理方法\n",
    "4. 查看相关论文文献，完成开题报告，文献综述（进行中......）\n",
    "\n",
    "### 计划：\n",
    "1. 由于人民医院数据更新较缓慢，所以在网上收集了一些关于（肺部肿瘤的CT图像，正在学习中）\n",
    "2. 参看相关肺部肿瘤的论文，了解研究现状\n",
    "3. 对其他深度学习算法进行学习：SSD, RNN, ResNet, Master R-CNN\n",
    "\n",
    "### 问题：\n",
    "1. 医院数据更新缓慢\n",
    "2. 近期使用tensorflow object detection API进行图像训练，速度较慢（大概三天才能训练完成10万step），后期如果正式进行实验，希望能使用GPU服务器"
   ]
  },
  {
   "cell_type": "code",
   "execution_count": null,
   "metadata": {},
   "outputs": [],
   "source": []
  }
 ],
 "metadata": {
  "kernelspec": {
   "display_name": "Python [conda env:Anaconda3]",
   "language": "python",
   "name": "conda-env-Anaconda3-py"
  },
  "language_info": {
   "codemirror_mode": {
    "name": "ipython",
    "version": 3
   },
   "file_extension": ".py",
   "mimetype": "text/x-python",
   "name": "python",
   "nbconvert_exporter": "python",
   "pygments_lexer": "ipython3",
   "version": "3.5.6"
  }
 },
 "nbformat": 4,
 "nbformat_minor": 2
}
