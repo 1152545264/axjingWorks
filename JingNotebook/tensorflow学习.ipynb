{
 "cells": [
  {
   "cell_type": "markdown",
   "metadata": {},
   "source": [
    "# 1. tf.placeholder(dtype, shape=None, name=None)\n",
    "\n",
    "## 此函数可以理解为形参，用于定义过程，在执行的时候再赋具体的值\n",
    "\n",
    "参数：\n",
    "\n",
    "dtype：数据类型。常用的是tf.float32,tf.float64等数值类型\n",
    "\n",
    "shape：数据形状。默认是None，就是一维值，也可以是多维，比如[2,3], [None, 3]表示列是3，行不定\n",
    "\n",
    "name：名称。"
   ]
  },
  {
   "cell_type": "code",
   "execution_count": 7,
   "metadata": {},
   "outputs": [
    {
     "name": "stdout",
     "output_type": "stream",
     "text": [
      "[[247.93758 262.33252 252.84474 ... 252.00511 256.14542 256.41217]\n",
      " [249.05824 259.4436  250.6381  ... 249.9413  253.07846 257.53564]\n",
      " [248.94102 256.18442 255.69418 ... 251.06767 252.39075 254.81546]\n",
      " ...\n",
      " [247.85872 255.64233 254.59789 ... 247.35431 251.55591 254.99686]\n",
      " [252.54648 258.83997 250.87149 ... 249.53078 256.94928 259.30124]\n",
      " [254.61629 252.92197 249.90038 ... 249.31796 255.4857  249.27818]]\n"
     ]
    }
   ],
   "source": [
    "import numpy as np\n",
    "import tensorflow as tf\n",
    "x = tf.placeholder(tf.float32, shape=(1024, 1024), name='x_input')\n",
    "y = tf.matmul(x, x)\n",
    "\n",
    "with tf.Session() as sess:\n",
    "    #print(sess.run(y))  #ERROR :此处x还没有赋值\n",
    "    rand_array = np.random.rand(1024, 1024)\n",
    "    print(sess.run(y, feed_dict={x:rand_array}))"
   ]
  },
  {
   "cell_type": "markdown",
   "metadata": {},
   "source": [
    "# 2. tf.variable_scope和tf.name_scope的用法\n",
    "tf.name_scope可以让变量有相同的命名，包括tf.get_variable得到的变量，还有tf.Variable的变量\n",
    "\n",
    "tf.variable_scope可以让变量有相同的命名，只是限于tf.Variable的变量\n",
    "\n",
    "# tf.summary.histogram\n",
    "tf.summary.histogram(\n",
    "    name,\n",
    "    values,\n",
    "    collections=None,\n",
    "    family=None\n",
    ")"
   ]
  },
  {
   "cell_type": "code",
   "execution_count": 38,
   "metadata": {},
   "outputs": [
    {
     "name": "stdout",
     "output_type": "stream",
     "text": [
      "V1/a1:0\n",
      "V1/a2:0\n",
      "V2/a3:0\n",
      "V2/a4:0\n",
      "b1:0\n",
      "V3/b2:0\n",
      "b3:0\n",
      "V4/b4:0\n"
     ]
    }
   ],
   "source": [
    "import tensorflow as tf\n",
    "import numpy as np\n",
    "tf.reset_default_graph()\n",
    "\n",
    "with tf.variable_scope('V1'):\n",
    "    a1 = tf.get_variable(name='a1', shape=[1], initializer=tf.constant_initializer(1)) \n",
    "    a2 = tf.Variable(tf.random_normal(shape=[2,3], mean=0, stddev=1), name=\"a2\")\n",
    "    \n",
    "    \n",
    "with tf.variable_scope(\"V2\"):\n",
    "    a3 = tf.get_variable(name=\"a3\", shape=[1], initializer=tf.constant_initializer(1))\n",
    "    a4 = tf.Variable(tf.random_normal(shape=[2, 3], mean=0, stddev=1), name=\"a4\") \n",
    "    \n",
    "with tf.name_scope('V3'):\n",
    "    b1 = tf.get_variable(name='b1', shape=[1], initializer=tf.constant_initializer(1)) #ERROR\n",
    "    b2 = tf.Variable(tf.random_normal(shape=[2,3], mean=0, stddev=1), name=\"b2\")\n",
    "    \n",
    "    \n",
    "with tf.name_scope(\"V4\"):\n",
    "    b3 = tf.get_variable(name=\"b3\", shape=[1], initializer=tf.constant_initializer(1))# ERROR\n",
    "    b4 = tf.Variable(tf.random_normal(shape=[2, 3], mean=0, stddev=1), name=\"b4\")    \n",
    "\n",
    "with tf.Session() as sess:\n",
    "   \n",
    "    sess.run(tf.initialize_all_variables())\n",
    "    print(a1.name)\n",
    "    print(a2.name)\n",
    "    print(a3.name)\n",
    "    print(a4.name)\n",
    "    print(b1.name)\n",
    "    print(b2.name)\n",
    "    print(b3.name)\n",
    "    print(b4.name)\n",
    "    "
   ]
  },
  {
   "cell_type": "code",
   "execution_count": null,
   "metadata": {},
   "outputs": [],
   "source": []
  }
 ],
 "metadata": {
  "kernelspec": {
   "display_name": "Python [default]",
   "language": "python",
   "name": "python3"
  },
  "language_info": {
   "codemirror_mode": {
    "name": "ipython",
    "version": 3
   },
   "file_extension": ".py",
   "mimetype": "text/x-python",
   "name": "python",
   "nbconvert_exporter": "python",
   "pygments_lexer": "ipython3",
   "version": "3.5.6"
  }
 },
 "nbformat": 4,
 "nbformat_minor": 2
}
